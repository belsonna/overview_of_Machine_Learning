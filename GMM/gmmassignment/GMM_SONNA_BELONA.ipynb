{
 "cells": [
  {
   "cell_type": "code",
   "execution_count": 2,
   "metadata": {
    "collapsed": true
   },
   "outputs": [],
   "source": [
    "import numpy as np\n",
    "from scipy import stats\n",
    "from scipy.stats import multivariate_normal\n",
    "import pandas as pd\n",
    "import matplotlib.pyplot as plt\n",
    "import seaborn as sns\n",
    "from scipy.stats import multivariate_normal as mvn"
   ]
  },
  {
   "cell_type": "code",
   "execution_count": 3,
   "metadata": {
    "collapsed": true
   },
   "outputs": [],
   "source": [
    "import csv"
   ]
  },
  {
   "cell_type": "code",
   "execution_count": 17,
   "metadata": {
    "collapsed": false
   },
   "outputs": [],
   "source": [
    "class GaussianMixtureModel():\n",
    "    \"\"\"Density estimation with Gaussian Mixture Models (GMM).\n",
    "\n",
    "    You can add new functions if you find it useful, but **do not** change\n",
    "    the names or argument lists of the functions provided.\n",
    "    \"\"\"\n",
    "    def __init__(self, X, K):\n",
    "        \"\"\"Initialise GMM class.\n",
    "\n",
    "        Arguments:\n",
    "          X -- data, N x D array\n",
    "          K -- number of mixture components, int\n",
    "        \"\"\"\n",
    "        self.X = X\n",
    "        self.n = X.shape[0]\n",
    "        self.D = X.shape[1]\n",
    "        self.K = K\n",
    "\n",
    "\n",
    "    def E_step(self, mu, S, pi):\n",
    "        \"\"\"Compute the E step of the EM algorithm.\n",
    "\n",
    "        Arguments:\n",
    "          mu -- component means, K x D array\n",
    "          S -- component covariances, K x D x D array\n",
    "          pi -- component weights, K x 1 array\n",
    "\n",
    "        Returns:\n",
    "          r_new -- updated component responsabilities, N x K array\n",
    "        \"\"\"\n",
    "        # Assert that all arguments have the right shape\n",
    "        assert(mu.shape == (self.K, self.D) and\\\n",
    "               S.shape  == (self.K, self.D, self.D) and\\\n",
    "               pi.shape == (self.K, 1))\n",
    "        r_new = np.zeros((self.n, self.K))\n",
    "\n",
    "        # Task 1: implement the E step and return updated responsabilities\n",
    "        # Write your code from here...\n",
    "\n",
    "        for i in range(self.n): \n",
    "            Nk = 0\n",
    "            for j in range(self.K):\n",
    "                Nk += pi[j] * mvn.pdf((self.X)[i], mu[j], S[j], allow_singular=True)\n",
    "            for k in range(self.K):\n",
    "                r_new[i, k] = pi[k] * mvn.pdf((self.X)[i], mu[k], S[k], allow_singular=True)/ Nk\n",
    "        \n",
    "        # ... to here.\n",
    "        assert(r_new.shape == (self.n, self.K))\n",
    "        return r_new\n",
    "\n",
    "\n",
    "    def M_step(self, mu, r):\n",
    "        \"\"\"Compute the M step of the EM algorithm.\n",
    "\n",
    "        Arguments:\n",
    "          mu -- previous component means, K x D array\n",
    "          r -- previous component responsabilities,  N x K array\n",
    "\n",
    "        Returns:\n",
    "          mu_new -- updated component means, K x D array\n",
    "          S_new -- updated component covariances, K x D x D array\n",
    "          pi_new -- updated component weights, K x 1 array\n",
    "        \"\"\"\n",
    "        assert(mu.shape == (self.K, self.D) and\\\n",
    "               r.shape  == (self.n, self.K))\n",
    "        mu_new = np.zeros((self.K, self.D))\n",
    "        S_new  = np.zeros((self.K, self.D, self.D))\n",
    "        pi_new = np.zeros((self.K, 1))\n",
    "\n",
    "        # Task 2: implement the M step and return updated mixture parameters\n",
    "        # Write your code from here...\n",
    "\n",
    "        #updating mu and pi\n",
    "        for k in range(self.K):\n",
    "            Nk = 0\n",
    "            for j in range(self.n):\n",
    "                Nk += r[j,k]\n",
    "            for i in range(self.n):\n",
    "                mu_new[k] += (r[i, k] * (self.X)[i])\n",
    "            mu_new[k] /= Nk\n",
    "            pi_new[k] = Nk/ (self.n)\n",
    "        \n",
    "        #updating S\n",
    "        for k in range(self.K):\n",
    "            Nk = 0\n",
    "            for i in range(self.n): \n",
    "                Nk += r[i,k]\n",
    "            for i in range(self.n):\n",
    "                ys = np.reshape((self.X)[i]- mu_new[k], (-1,1))\n",
    "                S_new[k] += (r[i, k] * (ys @ (ys.T)))\n",
    "            S_new[k] /= Nk\n",
    "        \n",
    "        # ... to here.\n",
    "        assert(mu_new.shape == (self.K, self.D) and\\\n",
    "               S_new.shape  == (self.K, self.D, self.D) and\\\n",
    "               pi_new.shape == (self.K, 1))\n",
    "        return mu_new, S_new, pi_new\n",
    "\n",
    "    \n",
    "    def log_likelihood(self, pi, mu, S):\n",
    "        '''Compute the loglikelihood'''\n",
    "        \n",
    "        ll = 0\n",
    "        for i in range(self.n):\n",
    "                s = 0\n",
    "                for k in range(K):\n",
    "                    s += pi[k] * mvn.pdf((self.X)[i], mu[k], S[k], allow_singular=True)\n",
    "                ll += np.log(s)\n",
    "        return -ll\n",
    "    \n",
    "    def train(self, initial_params):\n",
    "        \"\"\"Fit a Gaussian Mixture Model (GMM) to the data in matrix X.\n",
    "\n",
    "        Arguments:\n",
    "          initial_params -- dictionary with fields 'mu', 'S', 'pi' and 'K'\n",
    "\n",
    "        Returns:kernel \n",
    "          mu -- component means, K x D array\n",
    "          S -- component covariances, K x D x D array\n",
    "          pi -- component weights, K x 1 array\n",
    "          r -- component responsabilities, N x K array\n",
    "        \"\"\"\n",
    "        # Assert that initial_params has all the necessary fields\n",
    "        assert(all([k in initial_params for k in ['mu', 'S', 'pi']]))\n",
    "\n",
    "        mu = np.zeros((self.K, self.D))\n",
    "        S  = np.zeros((self.K, self.D, self.D))\n",
    "        pi = np.zeros((self.K, 1))\n",
    "        r  = np.zeros((self.n, self.K))\n",
    "        K= self.K\n",
    "\n",
    "        # Task 3: implement the EM loop to train the GMM\n",
    "        # Write your code from here...\n",
    "        \n",
    "        # updating log likelihoood\n",
    "        eps = 1e-8  \n",
    "        mu = initial_params['mu']\n",
    "        S = initial_params['S']\n",
    "        pi = initial_params['pi']\n",
    "        K = initial_params['K']\n",
    "        ll = 1\n",
    "        previous_ll = 0\n",
    "        log_likelihood = []\n",
    "        iters = []\n",
    "        niter = 0\n",
    "        \n",
    "        while(np.abs(ll-previous_ll) > eps):       \n",
    "            previous_ll = self.log_likelihood(pi, mu, S)\n",
    "            log_likelihood.append(previous_ll)\n",
    "            r = self.E_step(mu, S, pi)\n",
    "            mu, S, pi =  self.M_step(mu, r)\n",
    "            ll = self.log_likelihood(pi, mu, S)\n",
    "\n",
    "        # ... to here.\n",
    "        assert(mu.shape == (self.K, self.D) and\\\n",
    "               S.shape  == (self.K, self.D, self.D) and\\\n",
    "               pi.shape == (self.K, 1) and\\\n",
    "               r.shape  == (self.n, self.K))\n",
    "        return mu, S, pi, r, log_likelihood, iters\n",
    "    \n",
    "    def initparams(self,X):\n",
    "        K= self.K\n",
    "        D= self.D\n",
    "        mu= np.random.randint(min(X[:,0]),max(X[:,1]),size=(K,D))\n",
    "        mu=mu.reshape(K,D)\n",
    "        pi= np.ones(K)/K\n",
    "        cov= np.zeros((K,D,D))\n",
    "        for dim in range(len(cov)):\n",
    "            np.fill_diagonal(cov[dim],np.std(X,axis=0))   \n",
    "        params={\"mu\":mu, \"S\": cov, \"pi\":pi}\n",
    " \n",
    "        return params\n",
    "\n",
    "\n",
    "if __name__ == '__main__':\n",
    "    np.random.seed(43)\n",
    "\n",
    "    ##########################\n",
    "    # You can put your tests here - marking\n",
    "    # will be based on importing this code and calling\n",
    "    # specific functions with custom input.\n",
    "    # Do not write code outside the class definition or\n",
    "    # this if-block."
   ]
  },
  {
   "cell_type": "code",
   "execution_count": 18,
   "metadata": {
    "collapsed": false
   },
   "outputs": [],
   "source": [
    "# import geolocations\n",
    "with open ('geolocations.csv',newline='') as csvfile:\n",
    "    data= list(csv.reader(csvfile))\n",
    "    data=np.asarray(data)\n",
    "    data=data.astype(float)"
   ]
  },
  {
   "cell_type": "code",
   "execution_count": 19,
   "metadata": {
    "collapsed": false
   },
   "outputs": [
    {
     "data": {
      "text/plain": [
       "array([[  6.14512  ,   1.24327  ],\n",
       "       [  6.5582   ,   3.3466   ],\n",
       "       [  5.4646   ,  10.0631   ],\n",
       "       [ 14.1372   , -16.0754   ],\n",
       "       [ 35.6177   ,   5.0999   ],\n",
       "       [  0.2774244,  32.4783873],\n",
       "       [  5.56508  ,  -0.1601   ],\n",
       "       [ 15.65611  ,  32.48492  ],\n",
       "       [ 14.7074454, -17.474397 ],\n",
       "       [ 14.7765117, -17.3226387],\n",
       "       [  4.03106  ,   9.73532  ],\n",
       "       [ 24.713139 ,  46.622186 ],\n",
       "       [ 15.65792  ,  32.46231  ],\n",
       "       [ 52.4378   ,  -0.76     ],\n",
       "       [ 13.441518 ,  -6.268147 ],\n",
       "       [  4.1058   ,   9.7529   ],\n",
       "       [ 10.1345   ,  14.7117   ],\n",
       "       [  5.56     ,  -0.2057   ],\n",
       "       [ -1.8848   ,  29.7772   ],\n",
       "       [  3.9389   ,   9.7437   ],\n",
       "       [  7.4431   ,   3.9022   ],\n",
       "       [  7.8797   ,   2.7675   ],\n",
       "       [ 21.54238  ,  39.19797  ],\n",
       "       [ 10.633    ,  38.783    ],\n",
       "       [ -1.6166   ,  30.1166   ],\n",
       "       [  0.2408   ,  32.5523   ],\n",
       "       [ 15.79255  ,  32.52596  ],\n",
       "       [  6.531475 ,   3.32405  ],\n",
       "       [  4.9535   ,   9.9382   ],\n",
       "       [ -1.9008438,  36.2843654]])"
      ]
     },
     "execution_count": 19,
     "metadata": {},
     "output_type": "execute_result"
    }
   ],
   "source": [
    "data"
   ]
  },
  {
   "cell_type": "code",
   "execution_count": 20,
   "metadata": {
    "collapsed": false
   },
   "outputs": [],
   "source": [
    "model= GaussianMixtureModel(data,4)\n",
    "params= model.initparams(data)"
   ]
  },
  {
   "cell_type": "code",
   "execution_count": 22,
   "metadata": {
    "collapsed": false
   },
   "outputs": [
    {
     "ename": "KeyError",
     "evalue": "'K'",
     "output_type": "error",
     "traceback": [
      "\u001b[0;31m---------------------------------------------------------------------------\u001b[0m",
      "\u001b[0;31mKeyError\u001b[0m                                  Traceback (most recent call last)",
      "\u001b[0;32m<ipython-input-22-11d9e2c207c0>\u001b[0m in \u001b[0;36m<module>\u001b[0;34m()\u001b[0m\n\u001b[0;32m----> 1\u001b[0;31m \u001b[0mmu\u001b[0m\u001b[0;34m,\u001b[0m \u001b[0mS\u001b[0m\u001b[0;34m,\u001b[0m \u001b[0mpi\u001b[0m\u001b[0;34m,\u001b[0m \u001b[0mr\u001b[0m\u001b[0;34m,\u001b[0m\u001b[0mll_new_mat\u001b[0m\u001b[0;34m=\u001b[0m \u001b[0mmodel\u001b[0m\u001b[0;34m.\u001b[0m\u001b[0mtrain\u001b[0m\u001b[0;34m(\u001b[0m\u001b[0mparams\u001b[0m\u001b[0;34m)\u001b[0m\u001b[0;34m\u001b[0m\u001b[0m\n\u001b[0m",
      "\u001b[0;32m<ipython-input-17-be0dce308b14>\u001b[0m in \u001b[0;36mtrain\u001b[0;34m(self, initial_params)\u001b[0m\n\u001b[1;32m    133\u001b[0m         \u001b[0mS\u001b[0m \u001b[0;34m=\u001b[0m \u001b[0minitial_params\u001b[0m\u001b[0;34m[\u001b[0m\u001b[0;34m'S'\u001b[0m\u001b[0;34m]\u001b[0m\u001b[0;34m\u001b[0m\u001b[0m\n\u001b[1;32m    134\u001b[0m         \u001b[0mpi\u001b[0m \u001b[0;34m=\u001b[0m \u001b[0minitial_params\u001b[0m\u001b[0;34m[\u001b[0m\u001b[0;34m'pi'\u001b[0m\u001b[0;34m]\u001b[0m\u001b[0;34m\u001b[0m\u001b[0m\n\u001b[0;32m--> 135\u001b[0;31m         \u001b[0mK\u001b[0m \u001b[0;34m=\u001b[0m \u001b[0minitial_params\u001b[0m\u001b[0;34m[\u001b[0m\u001b[0;34m'K'\u001b[0m\u001b[0;34m]\u001b[0m\u001b[0;34m\u001b[0m\u001b[0m\n\u001b[0m\u001b[1;32m    136\u001b[0m         \u001b[0mll\u001b[0m \u001b[0;34m=\u001b[0m \u001b[0;36m1\u001b[0m\u001b[0;34m\u001b[0m\u001b[0m\n\u001b[1;32m    137\u001b[0m         \u001b[0mprevious_ll\u001b[0m \u001b[0;34m=\u001b[0m \u001b[0;36m0\u001b[0m\u001b[0;34m\u001b[0m\u001b[0m\n",
      "\u001b[0;31mKeyError\u001b[0m: 'K'"
     ]
    }
   ],
   "source": [
    "mu, S, pi, r,ll_new_mat= model.train(params)"
   ]
  },
  {
   "cell_type": "code",
   "execution_count": null,
   "metadata": {
    "collapsed": true
   },
   "outputs": [],
   "source": []
  },
  {
   "cell_type": "code",
   "execution_count": null,
   "metadata": {
    "collapsed": true
   },
   "outputs": [],
   "source": []
  }
 ],
 "metadata": {
  "kernelspec": {
   "display_name": "Python 3",
   "language": "python",
   "name": "python3"
  },
  "language_info": {
   "codemirror_mode": {
    "name": "ipython",
    "version": 3
   },
   "file_extension": ".py",
   "mimetype": "text/x-python",
   "name": "python",
   "nbconvert_exporter": "python",
   "pygments_lexer": "ipython3",
   "version": "3.5.3"
  }
 },
 "nbformat": 4,
 "nbformat_minor": 2
}
